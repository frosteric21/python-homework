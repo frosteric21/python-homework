{
 "cells": [
  {
   "cell_type": "code",
   "execution_count": 56,
   "metadata": {},
   "outputs": [],
   "source": [
    "from pathlib import Path\n",
    "import csv"
   ]
  },
  {
   "cell_type": "code",
   "execution_count": 57,
   "metadata": {},
   "outputs": [],
   "source": [
    "csvpath = Path(\"../../asu-tem-virt-fin-pt-04-2021-u-c/Homework/02-Python/Instructions/PyBank/Resources/budget_data.csv\")"
   ]
  },
  {
   "cell_type": "code",
   "execution_count": 58,
   "metadata": {},
   "outputs": [],
   "source": [
    "date = []\n",
    "total_profit = []\n",
    "profit_change = []\n",
    "profit_loss = 0\n",
    "line_num = 0"
   ]
  },
  {
   "cell_type": "code",
   "execution_count": 59,
   "metadata": {},
   "outputs": [],
   "source": [
    "with open(csvpath, 'r') as csvfile:\n",
    "    budget_data = csv.reader(csvfile, delimiter = ',')\n",
    "    csv_header = next(budget_data)\n",
    "    \n",
    "    for row in budget_data:\n",
    "        line_num += 1\n",
    "        profit_loss += int(row[1])\n",
    "        total_profit.append(int(row[1]))\n",
    "        date.append(row[0])\n",
    "        \n",
    "    for i in range(1, len(total_profit)):\n",
    "        profit_change.append(total_profit[i] - total_profit[i-1])\n",
    "        sum_profit_change = sum(profit_change)\n",
    "        avg_profit_change = sum(profit_change)/len(profit_change)\n",
    "        max_profit_change = max(profit_change)\n",
    "        min_profit_change = min(profit_change)\n",
    "        max_profit_date = str(date[profit_change.index(max(profit_change))])\n",
    "        min_profit_date = str(date[profit_change.index(min(profit_change))])\n",
    "        line_num = len(profit_change)\n",
    "        months = len(date)"
   ]
  },
  {
   "cell_type": "code",
   "execution_count": 60,
   "metadata": {},
   "outputs": [
    {
     "name": "stdout",
     "output_type": "stream",
     "text": [
      "Financial Analysis\n",
      "Total Months: 86\n",
      "Total: $-196785\n",
      "Average Change: $-2315.1176470588234\n",
      "Greatest Increase in Profits: 1926159\n",
      "Greatest Decrease in Profits: -2196167\n"
     ]
    }
   ],
   "source": [
    "print(\"Financial Analysis\")\n",
    "print(f\"Total Months: {months}\")\n",
    "print(f\"Total: ${sum_profit_change}\") \n",
    "print(f\"Average Change: ${avg_profit_change}\")\n",
    "print(f\"Greatest Increase in Profits: {max_profit_change}\")\n",
    "print(f\"Greatest Decrease in Profits: {min_profit_change}\")"
   ]
  },
  {
   "cell_type": "code",
   "execution_count": 61,
   "metadata": {},
   "outputs": [],
   "source": [
    "output_path = 'output.txt'\n",
    "with open(output_path, 'w') as file:\n",
    "    file.write(f\"Financial Analysis\\n\")\n",
    "    file.write(f\"\\n\")\n",
    "    file.write(f\"Total Months: {months}\\n\")\n",
    "    file.write(f\"Total: ${sum_profit_change}\\n\")\n",
    "    file.write(f\"Average Change: ${avg_profit_change}\\n\")\n",
    "    file.write(f\"Greatest Increase in Profits: {max_profit_change}\\n\")\n",
    "    file.write(f\"Greatest Decrease in Profits: {min_profit_change}\\n\")"
   ]
  },
  {
   "cell_type": "code",
   "execution_count": null,
   "metadata": {},
   "outputs": [],
   "source": []
  }
 ],
 "metadata": {
  "kernelspec": {
   "display_name": "Python 3",
   "language": "python",
   "name": "python3"
  },
  "language_info": {
   "codemirror_mode": {
    "name": "ipython",
    "version": 3
   },
   "file_extension": ".py",
   "mimetype": "text/x-python",
   "name": "python",
   "nbconvert_exporter": "python",
   "pygments_lexer": "ipython3",
   "version": "3.8.5"
  }
 },
 "nbformat": 4,
 "nbformat_minor": 4
}
